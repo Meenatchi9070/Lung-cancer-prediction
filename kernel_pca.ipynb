# Importing the libraries
import numpy as np
import matplotlib.pyplot as plt
import pandas as pd
from sklearn.metrics import accuracy_score

# Importing the dataset
dataset = pd.read_csv('cancer_patient_data_sets.csv')
X = dataset.iloc[:, 1:24]
y = dataset.iloc[:, 24]

# Splitting the dataset into the Training set and Test set
from sklearn.model_selection import train_test_split
X_train, X_test, y_train, y_test = train_test_split(X, y, test_size = 0.2, random_state = 0)

# Feature Scaling
from sklearn.preprocessing import StandardScaler
sc = StandardScaler()
X_train = sc.fit_transform(X_train)
X_test = sc.transform(X_test)

#Applying kernel PCA
from sklearn.decomposition import KernelPCA
pca=KernelPCA(n_components=24)
X_train=pca.fit_transform(X_train)
X_test=pca.transform(X_test)

#Fitting Gaussian Naive Bayes to the Training set
from sklearn.naive_bayes import GaussianNB
gauss = GaussianNB()
gauss.fit(X_train, y_train)

#Using DecisionTreeClassifier 
from sklearn.tree import DecisionTreeClassifier
tree = DecisionTreeClassifier(criterion = 'entropy', random_state = 0)
tree.fit(X_train, y_train)

print(accuracy_score(y_test,gauss.predict(X_test))*100)
print(accuracy_score(y_test,tree.predict(X_test))*100)

  
